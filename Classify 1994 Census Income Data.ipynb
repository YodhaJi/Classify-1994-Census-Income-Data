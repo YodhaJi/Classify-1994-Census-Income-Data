{
 "cells": [
  {
   "cell_type": "markdown",
   "id": "45bedce3",
   "metadata": {},
   "source": [
    "# Classify 1994 Census Income Data"
   ]
  },
  {
   "cell_type": "markdown",
   "id": "7a65dd66",
   "metadata": {},
   "source": [
    " **Starting a spark session**"
   ]
  },
  {
   "cell_type": "code",
   "execution_count": 1,
   "id": "b4b3246a",
   "metadata": {},
   "outputs": [],
   "source": [
    "from pyspark.sql import SparkSession"
   ]
  },
  {
   "cell_type": "code",
   "execution_count": 2,
   "id": "b2b2fead",
   "metadata": {},
   "outputs": [],
   "source": [
    "spark=SparkSession.builder.appName('Classify 1994 Census Income Data').getOrCreate()"
   ]
  },
  {
   "cell_type": "code",
   "execution_count": 3,
   "id": "95ba6300",
   "metadata": {},
   "outputs": [
    {
     "data": {
      "text/html": [
       "\n",
       "            <div>\n",
       "                <p><b>SparkSession - in-memory</b></p>\n",
       "                \n",
       "        <div>\n",
       "            <p><b>SparkContext</b></p>\n",
       "\n",
       "            <p><a href=\"http://DESKTOP-K3RHT5K:4040\">Spark UI</a></p>\n",
       "\n",
       "            <dl>\n",
       "              <dt>Version</dt>\n",
       "                <dd><code>v3.1.3</code></dd>\n",
       "              <dt>Master</dt>\n",
       "                <dd><code>local[*]</code></dd>\n",
       "              <dt>AppName</dt>\n",
       "                <dd><code>Classify 1994 Census Income Data</code></dd>\n",
       "            </dl>\n",
       "        </div>\n",
       "        \n",
       "            </div>\n",
       "        "
      ],
      "text/plain": [
       "<pyspark.sql.session.SparkSession at 0x1a7b1624a60>"
      ]
     },
     "execution_count": 3,
     "metadata": {},
     "output_type": "execute_result"
    }
   ],
   "source": [
    "spark"
   ]
  },
  {
   "cell_type": "markdown",
   "id": "decd0ab5",
   "metadata": {},
   "source": [
    "**Loading the dataset**"
   ]
  },
  {
   "cell_type": "code",
   "execution_count": 4,
   "id": "fe099b30",
   "metadata": {},
   "outputs": [],
   "source": [
    "data=spark.read.csv('adult.csv')"
   ]
  },
  {
   "cell_type": "markdown",
   "id": "b0c3b602",
   "metadata": {},
   "source": [
    "**Reading the dataset**"
   ]
  },
  {
   "cell_type": "code",
   "execution_count": 5,
   "id": "5cd5efe0",
   "metadata": {},
   "outputs": [],
   "source": [
    "data=spark.read.option('header','true').csv('adult.csv',inferSchema=True)"
   ]
  },
  {
   "cell_type": "code",
   "execution_count": 6,
   "id": "806bbaa8",
   "metadata": {},
   "outputs": [
    {
     "name": "stdout",
     "output_type": "stream",
     "text": [
      "+---+----------------+------+------------+-------------+--------------+-----------------+--------------+-----+------+------------+------------+--------------+--------------+------+\n",
      "|age|       workclass|fnlwgt|   education|education_num|marital_status|       occupation|  relationship| race|   sex|capital_gain|capital_loss|hours_per_week|native_country|income|\n",
      "+---+----------------+------+------------+-------------+--------------+-----------------+--------------+-----+------+------------+------------+--------------+--------------+------+\n",
      "| 90|            null| 77053|     HS-grad|            9|       Widowed|             null| Not-in-family|White|Female|           0|        4356|            40| United-States| <=50K|\n",
      "| 82|         Private|132870|     HS-grad|            9|       Widowed|  Exec-managerial| Not-in-family|White|Female|           0|        4356|            18| United-States| <=50K|\n",
      "| 66|            null|186061|Some-college|           10|       Widowed|             null|     Unmarried|Black|Female|           0|        4356|            40| United-States| <=50K|\n",
      "| 54|         Private|140359|     7th-8th|            4|      Divorced|Machine-op-inspct|     Unmarried|White|Female|           0|        3900|            40| United-States| <=50K|\n",
      "| 41|         Private|264663|Some-college|           10|     Separated|   Prof-specialty|     Own-child|White|Female|           0|        3900|            40| United-States| <=50K|\n",
      "| 34|         Private|216864|     HS-grad|            9|      Divorced|    Other-service|     Unmarried|White|Female|           0|        3770|            45| United-States| <=50K|\n",
      "| 38|         Private|150601|        10th|            6|     Separated|     Adm-clerical|     Unmarried|White|  Male|           0|        3770|            40| United-States| <=50K|\n",
      "| 74|       State-gov| 88638|   Doctorate|           16| Never-married|   Prof-specialty|Other-relative|White|Female|           0|        3683|            20| United-States|  >50K|\n",
      "| 68|     Federal-gov|422013|     HS-grad|            9|      Divorced|   Prof-specialty| Not-in-family|White|Female|           0|        3683|            40| United-States| <=50K|\n",
      "| 41|         Private| 70037|Some-college|           10| Never-married|     Craft-repair|     Unmarried|White|  Male|           0|        3004|            60|          null|  >50K|\n",
      "| 45|         Private|172274|   Doctorate|           16|      Divorced|   Prof-specialty|     Unmarried|Black|Female|           0|        3004|            35| United-States|  >50K|\n",
      "| 38|Self-emp-not-inc|164526| Prof-school|           15| Never-married|   Prof-specialty| Not-in-family|White|  Male|           0|        2824|            45| United-States|  >50K|\n",
      "| 52|         Private|129177|   Bachelors|           13|       Widowed|    Other-service| Not-in-family|White|Female|           0|        2824|            20| United-States|  >50K|\n",
      "| 32|         Private|136204|     Masters|           14|     Separated|  Exec-managerial| Not-in-family|White|  Male|           0|        2824|            55| United-States|  >50K|\n",
      "| 51|            null|172175|   Doctorate|           16| Never-married|             null| Not-in-family|White|  Male|           0|        2824|            40| United-States|  >50K|\n",
      "| 46|         Private| 45363| Prof-school|           15|      Divorced|   Prof-specialty| Not-in-family|White|  Male|           0|        2824|            40| United-States|  >50K|\n",
      "| 45|         Private|172822|        11th|            7|      Divorced| Transport-moving| Not-in-family|White|  Male|           0|        2824|            76| United-States|  >50K|\n",
      "| 57|         Private|317847|     Masters|           14|      Divorced|  Exec-managerial| Not-in-family|White|  Male|           0|        2824|            50| United-States|  >50K|\n",
      "| 22|         Private|119592|  Assoc-acdm|           12| Never-married|Handlers-cleaners| Not-in-family|Black|  Male|           0|        2824|            40|          null|  >50K|\n",
      "| 34|         Private|203034|   Bachelors|           13|     Separated|            Sales| Not-in-family|White|  Male|           0|        2824|            50| United-States|  >50K|\n",
      "+---+----------------+------+------------+-------------+--------------+-----------------+--------------+-----+------+------------+------------+--------------+--------------+------+\n",
      "only showing top 20 rows\n",
      "\n"
     ]
    }
   ],
   "source": [
    "data.show()"
   ]
  },
  {
   "cell_type": "markdown",
   "id": "2648b9b6",
   "metadata": {},
   "source": [
    "**Checking the number of null values**"
   ]
  },
  {
   "cell_type": "code",
   "execution_count": 7,
   "id": "f1173200",
   "metadata": {},
   "outputs": [
    {
     "data": {
      "text/html": [
       "<div>\n",
       "<style scoped>\n",
       "    .dataframe tbody tr th:only-of-type {\n",
       "        vertical-align: middle;\n",
       "    }\n",
       "\n",
       "    .dataframe tbody tr th {\n",
       "        vertical-align: top;\n",
       "    }\n",
       "\n",
       "    .dataframe thead th {\n",
       "        text-align: right;\n",
       "    }\n",
       "</style>\n",
       "<table border=\"1\" class=\"dataframe\">\n",
       "  <thead>\n",
       "    <tr style=\"text-align: right;\">\n",
       "      <th></th>\n",
       "      <th>age</th>\n",
       "      <th>workclass</th>\n",
       "      <th>fnlwgt</th>\n",
       "      <th>education</th>\n",
       "      <th>education_num</th>\n",
       "      <th>marital_status</th>\n",
       "      <th>occupation</th>\n",
       "      <th>relationship</th>\n",
       "      <th>race</th>\n",
       "      <th>sex</th>\n",
       "      <th>capital_gain</th>\n",
       "      <th>capital_loss</th>\n",
       "      <th>hours_per_week</th>\n",
       "      <th>native_country</th>\n",
       "      <th>income</th>\n",
       "    </tr>\n",
       "  </thead>\n",
       "  <tbody>\n",
       "    <tr>\n",
       "      <th>0</th>\n",
       "      <td>0</td>\n",
       "      <td>1836</td>\n",
       "      <td>0</td>\n",
       "      <td>0</td>\n",
       "      <td>0</td>\n",
       "      <td>0</td>\n",
       "      <td>1843</td>\n",
       "      <td>0</td>\n",
       "      <td>0</td>\n",
       "      <td>0</td>\n",
       "      <td>0</td>\n",
       "      <td>0</td>\n",
       "      <td>0</td>\n",
       "      <td>583</td>\n",
       "      <td>0</td>\n",
       "    </tr>\n",
       "  </tbody>\n",
       "</table>\n",
       "</div>"
      ],
      "text/plain": [
       "   age  workclass  fnlwgt  education  education_num  marital_status  \\\n",
       "0    0       1836       0          0              0               0   \n",
       "\n",
       "   occupation  relationship  race  sex  capital_gain  capital_loss  \\\n",
       "0        1843             0     0    0             0             0   \n",
       "\n",
       "   hours_per_week  native_country  income  \n",
       "0               0             583       0  "
      ]
     },
     "execution_count": 7,
     "metadata": {},
     "output_type": "execute_result"
    }
   ],
   "source": [
    "from pyspark.sql.functions import isnan, when, count, col\n",
    "data.select([count(when(col(c).isNull(), c)).alias(c) for c in data.columns]).toPandas()"
   ]
  },
  {
   "cell_type": "markdown",
   "id": "cdebde27",
   "metadata": {},
   "source": [
    "**Cleaning the data from the dataset**"
   ]
  },
  {
   "cell_type": "code",
   "execution_count": 8,
   "id": "9bee55a7",
   "metadata": {},
   "outputs": [],
   "source": [
    "# Dropping all the null values in the data set.\n",
    "cleaned_data=data.na.drop()"
   ]
  },
  {
   "cell_type": "markdown",
   "id": "03e75cc3",
   "metadata": {},
   "source": [
    "**Encoding the categorical data into numerical data**"
   ]
  },
  {
   "cell_type": "code",
   "execution_count": 9,
   "id": "5b08c24b",
   "metadata": {},
   "outputs": [],
   "source": [
    "from pyspark.ml.feature import VectorAssembler,StringIndexer"
   ]
  },
  {
   "cell_type": "code",
   "execution_count": 10,
   "id": "d95eb9bf",
   "metadata": {},
   "outputs": [],
   "source": [
    "workclassEncoder = StringIndexer(inputCol='workclass',outputCol='workclass_Encoded').fit(cleaned_data)\n",
    "educationEncoder = StringIndexer(inputCol='education',outputCol='education_Encoded').fit(cleaned_data)\n",
    "marital_statusEncoder = StringIndexer(inputCol='marital_status',outputCol='marital_status_Encoded').fit(cleaned_data)\n",
    "occupationEncoder = StringIndexer(inputCol='occupation',outputCol='occupation_Encoded').fit(cleaned_data)\n",
    "relationshipEncoder = StringIndexer(inputCol='relationship',outputCol='relationship_Encoded').fit(cleaned_data)\n",
    "raceEncoder = StringIndexer(inputCol='race',outputCol='race_Encoded').fit(cleaned_data)\n",
    "sexEncoder = StringIndexer(inputCol='sex',outputCol='sex_Encoded').fit(cleaned_data)\n",
    "native_countryEncoder = StringIndexer(inputCol='native_country',outputCol='native_country_Encoded').fit(cleaned_data)\n",
    "incomeEncoder = StringIndexer(inputCol='income',outputCol='income_Encoded').fit(cleaned_data)"
   ]
  },
  {
   "cell_type": "code",
   "execution_count": 11,
   "id": "b8711d04",
   "metadata": {},
   "outputs": [],
   "source": [
    "cleaned_data=workclassEncoder.transform(cleaned_data)\n",
    "cleaned_data=educationEncoder.transform(cleaned_data)\n",
    "cleaned_data=marital_statusEncoder.transform(cleaned_data)\n",
    "cleaned_data=occupationEncoder.transform(cleaned_data)\n",
    "cleaned_data=relationshipEncoder.transform(cleaned_data)\n",
    "cleaned_data=raceEncoder.transform(cleaned_data)\n",
    "cleaned_data=sexEncoder.transform(cleaned_data)\n",
    "cleaned_data=native_countryEncoder.transform(cleaned_data)\n",
    "cleaned_data=incomeEncoder.transform(cleaned_data)"
   ]
  },
  {
   "cell_type": "code",
   "execution_count": 12,
   "id": "838cf961",
   "metadata": {},
   "outputs": [
    {
     "data": {
      "text/plain": [
       "['age',\n",
       " 'workclass',\n",
       " 'fnlwgt',\n",
       " 'education',\n",
       " 'education_num',\n",
       " 'marital_status',\n",
       " 'occupation',\n",
       " 'relationship',\n",
       " 'race',\n",
       " 'sex',\n",
       " 'capital_gain',\n",
       " 'capital_loss',\n",
       " 'hours_per_week',\n",
       " 'native_country',\n",
       " 'income',\n",
       " 'workclass_Encoded',\n",
       " 'education_Encoded',\n",
       " 'marital_status_Encoded',\n",
       " 'occupation_Encoded',\n",
       " 'relationship_Encoded',\n",
       " 'race_Encoded',\n",
       " 'sex_Encoded',\n",
       " 'native_country_Encoded',\n",
       " 'income_Encoded']"
      ]
     },
     "execution_count": 12,
     "metadata": {},
     "output_type": "execute_result"
    }
   ],
   "source": [
    "cleaned_data.columns"
   ]
  },
  {
   "cell_type": "markdown",
   "id": "be6821ef",
   "metadata": {},
   "source": [
    "**Selecting all the numerical variables**"
   ]
  },
  {
   "cell_type": "code",
   "execution_count": 13,
   "id": "eae7225e",
   "metadata": {},
   "outputs": [],
   "source": [
    "cleaned_data=cleaned_data.select('age',\n",
    " 'fnlwgt',\n",
    " 'education_num',\n",
    " 'capital_gain',\n",
    " 'capital_loss',\n",
    " 'hours_per_week',\n",
    " 'workclass_Encoded',\n",
    " 'education_Encoded',\n",
    " 'marital_status_Encoded',\n",
    " 'occupation_Encoded',\n",
    " 'relationship_Encoded',\n",
    " 'race_Encoded',\n",
    " 'sex_Encoded',\n",
    " 'native_country_Encoded',\n",
    " 'income_Encoded')"
   ]
  },
  {
   "cell_type": "code",
   "execution_count": 14,
   "id": "36416250",
   "metadata": {},
   "outputs": [
    {
     "data": {
      "text/html": [
       "<div>\n",
       "<style scoped>\n",
       "    .dataframe tbody tr th:only-of-type {\n",
       "        vertical-align: middle;\n",
       "    }\n",
       "\n",
       "    .dataframe tbody tr th {\n",
       "        vertical-align: top;\n",
       "    }\n",
       "\n",
       "    .dataframe thead th {\n",
       "        text-align: right;\n",
       "    }\n",
       "</style>\n",
       "<table border=\"1\" class=\"dataframe\">\n",
       "  <thead>\n",
       "    <tr style=\"text-align: right;\">\n",
       "      <th></th>\n",
       "      <th>age</th>\n",
       "      <th>fnlwgt</th>\n",
       "      <th>education_num</th>\n",
       "      <th>capital_gain</th>\n",
       "      <th>capital_loss</th>\n",
       "      <th>hours_per_week</th>\n",
       "      <th>workclass_Encoded</th>\n",
       "      <th>education_Encoded</th>\n",
       "      <th>marital_status_Encoded</th>\n",
       "      <th>occupation_Encoded</th>\n",
       "      <th>relationship_Encoded</th>\n",
       "      <th>race_Encoded</th>\n",
       "      <th>sex_Encoded</th>\n",
       "      <th>native_country_Encoded</th>\n",
       "      <th>income_Encoded</th>\n",
       "    </tr>\n",
       "  </thead>\n",
       "  <tbody>\n",
       "    <tr>\n",
       "      <th>0</th>\n",
       "      <td>82</td>\n",
       "      <td>132870</td>\n",
       "      <td>9</td>\n",
       "      <td>0</td>\n",
       "      <td>4356</td>\n",
       "      <td>18</td>\n",
       "      <td>0.0</td>\n",
       "      <td>0.0</td>\n",
       "      <td>4.0</td>\n",
       "      <td>2.0</td>\n",
       "      <td>1.0</td>\n",
       "      <td>0.0</td>\n",
       "      <td>1.0</td>\n",
       "      <td>0.0</td>\n",
       "      <td>0.0</td>\n",
       "    </tr>\n",
       "    <tr>\n",
       "      <th>1</th>\n",
       "      <td>54</td>\n",
       "      <td>140359</td>\n",
       "      <td>4</td>\n",
       "      <td>0</td>\n",
       "      <td>3900</td>\n",
       "      <td>40</td>\n",
       "      <td>0.0</td>\n",
       "      <td>8.0</td>\n",
       "      <td>2.0</td>\n",
       "      <td>6.0</td>\n",
       "      <td>3.0</td>\n",
       "      <td>0.0</td>\n",
       "      <td>1.0</td>\n",
       "      <td>0.0</td>\n",
       "      <td>0.0</td>\n",
       "    </tr>\n",
       "    <tr>\n",
       "      <th>2</th>\n",
       "      <td>41</td>\n",
       "      <td>264663</td>\n",
       "      <td>10</td>\n",
       "      <td>0</td>\n",
       "      <td>3900</td>\n",
       "      <td>40</td>\n",
       "      <td>0.0</td>\n",
       "      <td>1.0</td>\n",
       "      <td>3.0</td>\n",
       "      <td>0.0</td>\n",
       "      <td>2.0</td>\n",
       "      <td>0.0</td>\n",
       "      <td>1.0</td>\n",
       "      <td>0.0</td>\n",
       "      <td>0.0</td>\n",
       "    </tr>\n",
       "    <tr>\n",
       "      <th>3</th>\n",
       "      <td>34</td>\n",
       "      <td>216864</td>\n",
       "      <td>9</td>\n",
       "      <td>0</td>\n",
       "      <td>3770</td>\n",
       "      <td>45</td>\n",
       "      <td>0.0</td>\n",
       "      <td>0.0</td>\n",
       "      <td>2.0</td>\n",
       "      <td>5.0</td>\n",
       "      <td>3.0</td>\n",
       "      <td>0.0</td>\n",
       "      <td>1.0</td>\n",
       "      <td>0.0</td>\n",
       "      <td>0.0</td>\n",
       "    </tr>\n",
       "    <tr>\n",
       "      <th>4</th>\n",
       "      <td>38</td>\n",
       "      <td>150601</td>\n",
       "      <td>6</td>\n",
       "      <td>0</td>\n",
       "      <td>3770</td>\n",
       "      <td>40</td>\n",
       "      <td>0.0</td>\n",
       "      <td>7.0</td>\n",
       "      <td>3.0</td>\n",
       "      <td>3.0</td>\n",
       "      <td>3.0</td>\n",
       "      <td>0.0</td>\n",
       "      <td>0.0</td>\n",
       "      <td>0.0</td>\n",
       "      <td>0.0</td>\n",
       "    </tr>\n",
       "    <tr>\n",
       "      <th>...</th>\n",
       "      <td>...</td>\n",
       "      <td>...</td>\n",
       "      <td>...</td>\n",
       "      <td>...</td>\n",
       "      <td>...</td>\n",
       "      <td>...</td>\n",
       "      <td>...</td>\n",
       "      <td>...</td>\n",
       "      <td>...</td>\n",
       "      <td>...</td>\n",
       "      <td>...</td>\n",
       "      <td>...</td>\n",
       "      <td>...</td>\n",
       "      <td>...</td>\n",
       "      <td>...</td>\n",
       "    </tr>\n",
       "    <tr>\n",
       "      <th>30157</th>\n",
       "      <td>22</td>\n",
       "      <td>310152</td>\n",
       "      <td>10</td>\n",
       "      <td>0</td>\n",
       "      <td>0</td>\n",
       "      <td>40</td>\n",
       "      <td>0.0</td>\n",
       "      <td>1.0</td>\n",
       "      <td>1.0</td>\n",
       "      <td>11.0</td>\n",
       "      <td>1.0</td>\n",
       "      <td>0.0</td>\n",
       "      <td>0.0</td>\n",
       "      <td>0.0</td>\n",
       "      <td>0.0</td>\n",
       "    </tr>\n",
       "    <tr>\n",
       "      <th>30158</th>\n",
       "      <td>27</td>\n",
       "      <td>257302</td>\n",
       "      <td>12</td>\n",
       "      <td>0</td>\n",
       "      <td>0</td>\n",
       "      <td>38</td>\n",
       "      <td>0.0</td>\n",
       "      <td>6.0</td>\n",
       "      <td>0.0</td>\n",
       "      <td>10.0</td>\n",
       "      <td>4.0</td>\n",
       "      <td>0.0</td>\n",
       "      <td>1.0</td>\n",
       "      <td>0.0</td>\n",
       "      <td>0.0</td>\n",
       "    </tr>\n",
       "    <tr>\n",
       "      <th>30159</th>\n",
       "      <td>40</td>\n",
       "      <td>154374</td>\n",
       "      <td>9</td>\n",
       "      <td>0</td>\n",
       "      <td>0</td>\n",
       "      <td>40</td>\n",
       "      <td>0.0</td>\n",
       "      <td>0.0</td>\n",
       "      <td>0.0</td>\n",
       "      <td>6.0</td>\n",
       "      <td>0.0</td>\n",
       "      <td>0.0</td>\n",
       "      <td>0.0</td>\n",
       "      <td>0.0</td>\n",
       "      <td>1.0</td>\n",
       "    </tr>\n",
       "    <tr>\n",
       "      <th>30160</th>\n",
       "      <td>58</td>\n",
       "      <td>151910</td>\n",
       "      <td>9</td>\n",
       "      <td>0</td>\n",
       "      <td>0</td>\n",
       "      <td>40</td>\n",
       "      <td>0.0</td>\n",
       "      <td>0.0</td>\n",
       "      <td>4.0</td>\n",
       "      <td>3.0</td>\n",
       "      <td>3.0</td>\n",
       "      <td>0.0</td>\n",
       "      <td>1.0</td>\n",
       "      <td>0.0</td>\n",
       "      <td>0.0</td>\n",
       "    </tr>\n",
       "    <tr>\n",
       "      <th>30161</th>\n",
       "      <td>22</td>\n",
       "      <td>201490</td>\n",
       "      <td>9</td>\n",
       "      <td>0</td>\n",
       "      <td>0</td>\n",
       "      <td>20</td>\n",
       "      <td>0.0</td>\n",
       "      <td>0.0</td>\n",
       "      <td>1.0</td>\n",
       "      <td>3.0</td>\n",
       "      <td>2.0</td>\n",
       "      <td>0.0</td>\n",
       "      <td>0.0</td>\n",
       "      <td>0.0</td>\n",
       "      <td>0.0</td>\n",
       "    </tr>\n",
       "  </tbody>\n",
       "</table>\n",
       "<p>30162 rows × 15 columns</p>\n",
       "</div>"
      ],
      "text/plain": [
       "       age  fnlwgt  education_num  capital_gain  capital_loss  hours_per_week  \\\n",
       "0       82  132870              9             0          4356              18   \n",
       "1       54  140359              4             0          3900              40   \n",
       "2       41  264663             10             0          3900              40   \n",
       "3       34  216864              9             0          3770              45   \n",
       "4       38  150601              6             0          3770              40   \n",
       "...    ...     ...            ...           ...           ...             ...   \n",
       "30157   22  310152             10             0             0              40   \n",
       "30158   27  257302             12             0             0              38   \n",
       "30159   40  154374              9             0             0              40   \n",
       "30160   58  151910              9             0             0              40   \n",
       "30161   22  201490              9             0             0              20   \n",
       "\n",
       "       workclass_Encoded  education_Encoded  marital_status_Encoded  \\\n",
       "0                    0.0                0.0                     4.0   \n",
       "1                    0.0                8.0                     2.0   \n",
       "2                    0.0                1.0                     3.0   \n",
       "3                    0.0                0.0                     2.0   \n",
       "4                    0.0                7.0                     3.0   \n",
       "...                  ...                ...                     ...   \n",
       "30157                0.0                1.0                     1.0   \n",
       "30158                0.0                6.0                     0.0   \n",
       "30159                0.0                0.0                     0.0   \n",
       "30160                0.0                0.0                     4.0   \n",
       "30161                0.0                0.0                     1.0   \n",
       "\n",
       "       occupation_Encoded  relationship_Encoded  race_Encoded  sex_Encoded  \\\n",
       "0                     2.0                   1.0           0.0          1.0   \n",
       "1                     6.0                   3.0           0.0          1.0   \n",
       "2                     0.0                   2.0           0.0          1.0   \n",
       "3                     5.0                   3.0           0.0          1.0   \n",
       "4                     3.0                   3.0           0.0          0.0   \n",
       "...                   ...                   ...           ...          ...   \n",
       "30157                11.0                   1.0           0.0          0.0   \n",
       "30158                10.0                   4.0           0.0          1.0   \n",
       "30159                 6.0                   0.0           0.0          0.0   \n",
       "30160                 3.0                   3.0           0.0          1.0   \n",
       "30161                 3.0                   2.0           0.0          0.0   \n",
       "\n",
       "       native_country_Encoded  income_Encoded  \n",
       "0                         0.0             0.0  \n",
       "1                         0.0             0.0  \n",
       "2                         0.0             0.0  \n",
       "3                         0.0             0.0  \n",
       "4                         0.0             0.0  \n",
       "...                       ...             ...  \n",
       "30157                     0.0             0.0  \n",
       "30158                     0.0             0.0  \n",
       "30159                     0.0             1.0  \n",
       "30160                     0.0             0.0  \n",
       "30161                     0.0             0.0  \n",
       "\n",
       "[30162 rows x 15 columns]"
      ]
     },
     "execution_count": 14,
     "metadata": {},
     "output_type": "execute_result"
    }
   ],
   "source": [
    "cleaned_data.show()"
   ]
  },
  {
   "cell_type": "markdown",
   "id": "7e6d3353",
   "metadata": {},
   "source": [
    "**Selecting all the features and vectorising them using VectorAssembler**"
   ]
  },
  {
   "cell_type": "code",
   "execution_count": 15,
   "id": "474b68f1",
   "metadata": {},
   "outputs": [],
   "source": [
    "required_features = ['age',\n",
    " 'fnlwgt',\n",
    " 'education_num',\n",
    " 'capital_gain',\n",
    " 'capital_loss',\n",
    " 'hours_per_week',\n",
    " 'workclass_Encoded',\n",
    " 'education_Encoded',\n",
    " 'marital_status_Encoded',\n",
    " 'occupation_Encoded',\n",
    " 'relationship_Encoded',\n",
    " 'race_Encoded',\n",
    " 'sex_Encoded',\n",
    " 'native_country_Encoded']"
   ]
  },
  {
   "cell_type": "code",
   "execution_count": 16,
   "id": "f8020a16",
   "metadata": {},
   "outputs": [
    {
     "name": "stdout",
     "output_type": "stream",
     "text": [
      "+---+------+-------------+------------+------------+--------------+-----------------+-----------------+----------------------+------------------+--------------------+------------+-----------+----------------------+--------------+--------------------+\n",
      "|age|fnlwgt|education_num|capital_gain|capital_loss|hours_per_week|workclass_Encoded|education_Encoded|marital_status_Encoded|occupation_Encoded|relationship_Encoded|race_Encoded|sex_Encoded|native_country_Encoded|income_Encoded|            features|\n",
      "+---+------+-------------+------------+------------+--------------+-----------------+-----------------+----------------------+------------------+--------------------+------------+-----------+----------------------+--------------+--------------------+\n",
      "| 82|132870|            9|           0|        4356|            18|              0.0|              0.0|                   4.0|               2.0|                 1.0|         0.0|        1.0|                   0.0|           0.0|[82.0,132870.0,9....|\n",
      "| 54|140359|            4|           0|        3900|            40|              0.0|              8.0|                   2.0|               6.0|                 3.0|         0.0|        1.0|                   0.0|           0.0|[54.0,140359.0,4....|\n",
      "| 41|264663|           10|           0|        3900|            40|              0.0|              1.0|                   3.0|               0.0|                 2.0|         0.0|        1.0|                   0.0|           0.0|[41.0,264663.0,10...|\n",
      "| 34|216864|            9|           0|        3770|            45|              0.0|              0.0|                   2.0|               5.0|                 3.0|         0.0|        1.0|                   0.0|           0.0|[34.0,216864.0,9....|\n",
      "| 38|150601|            6|           0|        3770|            40|              0.0|              7.0|                   3.0|               3.0|                 3.0|         0.0|        0.0|                   0.0|           0.0|[38.0,150601.0,6....|\n",
      "| 74| 88638|           16|           0|        3683|            20|              3.0|             12.0|                   1.0|               0.0|                 5.0|         0.0|        1.0|                   0.0|           1.0|[74.0,88638.0,16....|\n",
      "| 68|422013|            9|           0|        3683|            40|              5.0|              0.0|                   2.0|               0.0|                 1.0|         0.0|        1.0|                   0.0|           0.0|[68.0,422013.0,9....|\n",
      "| 45|172274|           16|           0|        3004|            35|              0.0|             12.0|                   2.0|               0.0|                 3.0|         1.0|        1.0|                   0.0|           1.0|[45.0,172274.0,16...|\n",
      "| 38|164526|           15|           0|        2824|            45|              1.0|              9.0|                   1.0|               0.0|                 1.0|         0.0|        0.0|                   0.0|           1.0|[38.0,164526.0,15...|\n",
      "| 52|129177|           13|           0|        2824|            20|              0.0|              2.0|                   4.0|               5.0|                 1.0|         0.0|        1.0|                   0.0|           1.0|[52.0,129177.0,13...|\n",
      "| 32|136204|           14|           0|        2824|            55|              0.0|              3.0|                   3.0|               2.0|                 1.0|         0.0|        0.0|                   0.0|           1.0|[32.0,136204.0,14...|\n",
      "| 46| 45363|           15|           0|        2824|            40|              0.0|              9.0|                   2.0|               0.0|                 1.0|         0.0|        0.0|                   0.0|           1.0|(14,[0,1,2,4,5,7,...|\n",
      "| 45|172822|            7|           0|        2824|            76|              0.0|              5.0|                   2.0|               7.0|                 1.0|         0.0|        0.0|                   0.0|           1.0|[45.0,172822.0,7....|\n",
      "| 57|317847|           14|           0|        2824|            50|              0.0|              3.0|                   2.0|               2.0|                 1.0|         0.0|        0.0|                   0.0|           1.0|[57.0,317847.0,14...|\n",
      "| 34|203034|           13|           0|        2824|            50|              0.0|              2.0|                   3.0|               4.0|                 1.0|         0.0|        0.0|                   0.0|           1.0|[34.0,203034.0,13...|\n",
      "| 37|188774|           13|           0|        2824|            40|              0.0|              2.0|                   1.0|               2.0|                 1.0|         0.0|        0.0|                   0.0|           1.0|[37.0,188774.0,13...|\n",
      "| 29| 77009|            7|           0|        2754|            42|              0.0|              5.0|                   3.0|               4.0|                 1.0|         0.0|        1.0|                   0.0|           0.0|[29.0,77009.0,7.0...|\n",
      "| 61| 29059|            9|           0|        2754|            25|              0.0|              0.0|                   2.0|               4.0|                 3.0|         0.0|        1.0|                   0.0|           0.0|[61.0,29059.0,9.0...|\n",
      "| 51|153870|           10|           0|        2603|            40|              0.0|              1.0|                   0.0|               7.0|                 0.0|         0.0|        0.0|                   0.0|           0.0|(14,[0,1,2,4,5,7,...|\n",
      "| 21| 34310|           11|           0|        2603|            40|              0.0|              4.0|                   0.0|               1.0|                 0.0|         0.0|        0.0|                   0.0|           0.0|(14,[0,1,2,4,5,7,...|\n",
      "+---+------+-------------+------------+------------+--------------+-----------------+-----------------+----------------------+------------------+--------------------+------------+-----------+----------------------+--------------+--------------------+\n",
      "only showing top 20 rows\n",
      "\n"
     ]
    }
   ],
   "source": [
    "vec_assembler = VectorAssembler(inputCols=required_features,outputCol='features')\n",
    "vec_df = vec_assembler.transform(cleaned_data)\n",
    "vec_df.show()"
   ]
  },
  {
   "cell_type": "markdown",
   "id": "2ad65363",
   "metadata": {},
   "source": [
    "**Spliting the data into test set and training set**"
   ]
  },
  {
   "cell_type": "code",
   "execution_count": 17,
   "id": "21df8e5d",
   "metadata": {},
   "outputs": [],
   "source": [
    "x_train,x_test = vec_df.randomSplit([0.8,0.2])"
   ]
  },
  {
   "cell_type": "markdown",
   "id": "08f977bc",
   "metadata": {},
   "source": [
    "**Using a Logistic Regression model and fitting training set into it**"
   ]
  },
  {
   "cell_type": "code",
   "execution_count": 18,
   "id": "bd0cc7a4",
   "metadata": {},
   "outputs": [],
   "source": [
    "from pyspark.ml.classification import LogisticRegression,DecisionTreeClassifier"
   ]
  },
  {
   "cell_type": "code",
   "execution_count": 19,
   "id": "dad52967",
   "metadata": {},
   "outputs": [],
   "source": [
    " l=LogisticRegression(featuresCol='features',labelCol='income_Encoded')"
   ]
  },
  {
   "cell_type": "code",
   "execution_count": 20,
   "id": "e0691a0e",
   "metadata": {},
   "outputs": [],
   "source": [
    "l_model = l.fit(x_train)"
   ]
  },
  {
   "cell_type": "code",
   "execution_count": 21,
   "id": "df3c7166",
   "metadata": {},
   "outputs": [],
   "source": [
    "y_pred = l_model.transform(x_test)"
   ]
  },
  {
   "cell_type": "code",
   "execution_count": 22,
   "id": "69b17044",
   "metadata": {},
   "outputs": [
    {
     "name": "stdout",
     "output_type": "stream",
     "text": [
      "+---+------+-------------+------------+------------+--------------+-----------------+-----------------+----------------------+------------------+--------------------+------------+-----------+----------------------+--------------+--------------------+--------------------+--------------------+----------+\n",
      "|age|fnlwgt|education_num|capital_gain|capital_loss|hours_per_week|workclass_Encoded|education_Encoded|marital_status_Encoded|occupation_Encoded|relationship_Encoded|race_Encoded|sex_Encoded|native_country_Encoded|income_Encoded|            features|       rawPrediction|         probability|prediction|\n",
      "+---+------+-------------+------------+------------+--------------+-----------------+-----------------+----------------------+------------------+--------------------+------------+-----------+----------------------+--------------+--------------------+--------------------+--------------------+----------+\n",
      "| 17| 27415|            7|           0|           0|            20|              0.0|              5.0|                   1.0|               8.0|                 2.0|         3.0|        0.0|                   0.0|           0.0|[17.0,27415.0,7.0...|[5.40361511405307...|[0.99551987934288...|       0.0|\n",
      "| 17| 32124|            5|           0|           0|             9|              2.0|             10.0|                   1.0|               5.0|                 2.0|         1.0|        0.0|                   0.0|           0.0|[17.0,32124.0,5.0...|[5.91744736424429...|[0.99731516447640...|       0.0|\n",
      "| 17| 33138|            8|           0|           0|            40|              0.0|             11.0|                   1.0|               4.0|                 2.0|         0.0|        0.0|                   0.0|           0.0|(14,[0,1,2,5,7,8,...|[3.90728889647827...|[0.98030094403967...|       0.0|\n",
      "| 17| 47199|            7|           0|           0|            24|              0.0|              5.0|                   1.0|              12.0|                 2.0|         0.0|        1.0|                   0.0|           0.0|[17.0,47199.0,7.0...|[5.54803406810614...|[0.99612000575677...|       0.0|\n",
      "| 17| 53367|            5|           0|           0|            35|              0.0|             10.0|                   1.0|               5.0|                 2.0|         0.0|        1.0|                   0.0|           0.0|[17.0,53367.0,5.0...|[5.46448663588468...|[0.99578334116544...|       0.0|\n",
      "| 17| 53611|            8|           0|           0|             6|              0.0|             11.0|                   1.0|               5.0|                 2.0|         0.0|        1.0|                   0.0|           0.0|[17.0,53611.0,8.0...|[5.48406284172169...|[0.99586474659293...|       0.0|\n",
      "| 17| 73338|            7|           0|           0|            20|              0.0|              5.0|                   1.0|               4.0|                 2.0|         0.0|        0.0|                   0.0|           0.0|(14,[0,1,2,5,7,8,...|[4.73608102592818...|[0.99130333558159...|       0.0|\n",
      "| 17| 95446|            6|           0|           0|            15|              0.0|              7.0|                   1.0|               5.0|                 2.0|         0.0|        0.0|                   0.0|           0.0|(14,[0,1,2,5,7,8,...|[5.30392077100439...|[0.99505253775901...|       0.0|\n",
      "| 17|101626|            5|           0|           0|            20|              0.0|             10.0|                   1.0|               6.0|                 2.0|         0.0|        0.0|                   0.0|           0.0|(14,[0,1,2,5,7,8,...|[5.57421216721810...|[0.99621987972172...|       0.0|\n",
      "| 17|103851|            7|        1055|           0|            20|              0.0|              5.0|                   1.0|               3.0|                 2.0|         0.0|        1.0|                   0.0|           0.0|[17.0,103851.0,7....|[4.73367602564680...|[0.99128257747868...|       0.0|\n",
      "| 17|104232|            6|           0|           0|            10|              0.0|              7.0|                   1.0|               5.0|                 2.0|         0.0|        0.0|                   0.0|           0.0|(14,[0,1,2,5,7,8,...|[5.46178245720775...|[0.99577197141105...|       0.0|\n",
      "| 17|106733|            7|         594|           0|            40|              0.0|              5.0|                   1.0|               1.0|                 2.0|         0.0|        0.0|                   0.0|           0.0|[17.0,106733.0,7....|[3.68071433414215...|[0.97541470776000...|       0.0|\n",
      "| 17|108273|            6|           0|           0|            12|              0.0|              7.0|                   1.0|               4.0|                 2.0|         0.0|        1.0|                   0.0|           0.0|[17.0,108273.0,6....|[5.74315388111596...|[0.99680559169524...|       0.0|\n",
      "| 17|110798|            7|           0|           0|            20|              0.0|              5.0|                   1.0|               4.0|                 2.0|         0.0|        1.0|                   0.0|           0.0|[17.0,110798.0,7....|[5.12498331883264...|[0.99408883312227...|       0.0|\n",
      "| 17|111332|            7|           0|           0|            20|              0.0|              5.0|                   1.0|               4.0|                 2.0|         0.0|        1.0|                   0.0|           0.0|[17.0,111332.0,7....|[5.12463265171019...|[0.99408677216630...|       0.0|\n",
      "| 17|115551|            7|           0|           0|            20|              0.0|              5.0|                   1.0|               5.0|                 2.0|         0.0|        1.0|                   0.0|           0.0|[17.0,115551.0,7....|[5.18588606615093...|[0.99443615269845...|       0.0|\n",
      "| 17|120068|            7|           0|           0|            17|              0.0|              5.0|                   1.0|               8.0|                 2.0|         0.0|        0.0|                   0.0|           0.0|(14,[0,1,2,5,7,8,...|[5.05966892486837...|[0.99369237792718...|       0.0|\n",
      "| 17|121425|            7|           0|           0|            16|              0.0|              5.0|                   1.0|               3.0|                 2.0|         0.0|        1.0|                   0.0|           0.0|[17.0,121425.0,7....|[5.18488585442274...|[0.99443061589836...|       0.0|\n",
      "| 17|126771|            8|           0|           0|             7|              0.0|             11.0|                   1.0|               0.0|                 2.0|         0.0|        0.0|                   0.0|           0.0|(14,[0,1,2,5,7,8,...|[4.66967261446463...|[0.99071174218512...|       0.0|\n",
      "| 17|126832|            6|           0|           0|            30|              0.0|              7.0|                   1.0|               5.0|                 2.0|         0.0|        0.0|                   0.0|           0.0|(14,[0,1,2,5,7,8,...|[4.79241638220941...|[0.99177580274073...|       0.0|\n",
      "+---+------+-------------+------------+------------+--------------+-----------------+-----------------+----------------------+------------------+--------------------+------------+-----------+----------------------+--------------+--------------------+--------------------+--------------------+----------+\n",
      "only showing top 20 rows\n",
      "\n"
     ]
    }
   ],
   "source": [
    "y_pred.show()"
   ]
  },
  {
   "cell_type": "code",
   "execution_count": 23,
   "id": "629a549e",
   "metadata": {},
   "outputs": [
    {
     "name": "stdout",
     "output_type": "stream",
     "text": [
      "+--------------+----------+\n",
      "|income_Encoded|prediction|\n",
      "+--------------+----------+\n",
      "|           0.0|       0.0|\n",
      "|           0.0|       0.0|\n",
      "|           0.0|       0.0|\n",
      "|           0.0|       0.0|\n",
      "|           0.0|       0.0|\n",
      "|           0.0|       0.0|\n",
      "|           0.0|       0.0|\n",
      "|           0.0|       0.0|\n",
      "|           0.0|       0.0|\n",
      "|           0.0|       0.0|\n",
      "|           0.0|       0.0|\n",
      "|           0.0|       0.0|\n",
      "|           0.0|       0.0|\n",
      "|           0.0|       0.0|\n",
      "|           0.0|       0.0|\n",
      "|           0.0|       0.0|\n",
      "|           0.0|       0.0|\n",
      "|           0.0|       0.0|\n",
      "|           0.0|       0.0|\n",
      "|           0.0|       0.0|\n",
      "+--------------+----------+\n",
      "only showing top 20 rows\n",
      "\n"
     ]
    }
   ],
   "source": [
    "y_pred.select('income_Encoded', 'prediction').show()"
   ]
  },
  {
   "cell_type": "markdown",
   "id": "7e77d20c",
   "metadata": {},
   "source": [
    "**Measuring the accuracy of the machine model**"
   ]
  },
  {
   "cell_type": "code",
   "execution_count": 24,
   "id": "c7b0914b",
   "metadata": {},
   "outputs": [
    {
     "data": {
      "text/plain": [
       "0.8351684470008217"
      ]
     },
     "execution_count": 24,
     "metadata": {},
     "output_type": "execute_result"
    }
   ],
   "source": [
    "from pyspark.ml.evaluation import MulticlassClassificationEvaluator\n",
    "multi_evaluator = MulticlassClassificationEvaluator(labelCol='income_Encoded',metricName='accuracy')\n",
    "multi_evaluator.evaluate(y_pred)"
   ]
  },
  {
   "cell_type": "code",
   "execution_count": null,
   "id": "59bd09b9",
   "metadata": {},
   "outputs": [],
   "source": []
  }
 ],
 "metadata": {
  "kernelspec": {
   "display_name": "Python 3",
   "language": "python",
   "name": "python3"
  },
  "language_info": {
   "codemirror_mode": {
    "name": "ipython",
    "version": 3
   },
   "file_extension": ".py",
   "mimetype": "text/x-python",
   "name": "python",
   "nbconvert_exporter": "python",
   "pygments_lexer": "ipython3",
   "version": "3.8.8"
  }
 },
 "nbformat": 4,
 "nbformat_minor": 5
}
